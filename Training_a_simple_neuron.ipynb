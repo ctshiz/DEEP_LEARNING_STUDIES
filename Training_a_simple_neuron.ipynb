{
  "nbformat": 4,
  "nbformat_minor": 0,
  "metadata": {
    "colab": {
      "name": "Training a simple neuron.ipynb",
      "provenance": [],
      "collapsed_sections": [],
      "authorship_tag": "ABX9TyMs9Lk8ohYKwFiqSdQi6JmO",
      "include_colab_link": true
    },
    "kernelspec": {
      "name": "python3",
      "display_name": "Python 3"
    },
    "language_info": {
      "name": "python"
    }
  },
  "cells": [
    {
      "cell_type": "markdown",
      "metadata": {
        "id": "view-in-github",
        "colab_type": "text"
      },
      "source": [
        "<a href=\"https://colab.research.google.com/github/ctshiz/DEEP_LEARNING_STUDIES/blob/main/Training_a_simple_neuron.ipynb\" target=\"_parent\"><img src=\"https://colab.research.google.com/assets/colab-badge.svg\" alt=\"Open In Colab\"/></a>"
      ]
    },
    {
      "cell_type": "code",
      "execution_count": 2,
      "metadata": {
        "id": "3-JIkUPhcOxZ"
      },
      "outputs": [],
      "source": [
        "from sklearn.datasets import make_classification\n",
        "\n",
        "X,y = make_classification(n_samples=100, n_features=2, n_classes=2, n_informative=2, n_redundant=0, n_repeated=0, n_clusters_per_class =1, class_sep=1.5, random_state=5)"
      ]
    },
    {
      "cell_type": "code",
      "source": [
        "#replacing the zero target with the negative targets \n",
        "y[y==0]=-1"
      ],
      "metadata": {
        "id": "wSxzUq_wcqZY"
      },
      "execution_count": 5,
      "outputs": []
    },
    {
      "cell_type": "code",
      "source": [
        "import seaborn as sns\n",
        "import pandas as pd"
      ],
      "metadata": {
        "id": "svkL16IKc1o6"
      },
      "execution_count": 7,
      "outputs": []
    },
    {
      "cell_type": "code",
      "source": [
        "df = pd.DataFrame(X, columns=['D1', 'D2'])"
      ],
      "metadata": {
        "id": "BeIfamhHdW19"
      },
      "execution_count": 10,
      "outputs": []
    },
    {
      "cell_type": "code",
      "source": [
        "sns.scatterplot(data=df, x='D1', y='D2', hue=y)"
      ],
      "metadata": {
        "colab": {
          "base_uri": "https://localhost:8080/",
          "height": 296
        },
        "id": "QGTS-TWyd6fL",
        "outputId": "99ace858-3d9b-43cb-abea-b1c1ccb7bc19"
      },
      "execution_count": 13,
      "outputs": [
        {
          "output_type": "execute_result",
          "data": {
            "text/plain": [
              "<matplotlib.axes._subplots.AxesSubplot at 0x7f209d7a08d0>"
            ]
          },
          "metadata": {},
          "execution_count": 13
        },
        {
          "output_type": "display_data",
          "data": {
            "text/plain": [
              "<Figure size 432x288 with 1 Axes>"
            ],
            "image/png": "[encoded data removed]"
          },
          "metadata": {
            "needs_background": "light"
          }
        }
      ]
    },
    {
      "cell_type": "code",
      "source": [
        "#add the number 1 to each input vector by adding a vector of ones to X with length N=100\n",
        "import numpy as np\n",
        "X = np.append(np.ones((100,1)), X, 1)"
      ],
      "metadata": {
        "id": "T8AUrQuqd6-W"
      },
      "execution_count": 16,
      "outputs": []
    },
    {
      "cell_type": "code",
      "source": [
        "X"
      ],
      "metadata": {
        "colab": {
          "base_uri": "https://localhost:8080/"
        },
        "id": "XvxmYBcJeSWc",
        "outputId": "0c9301d0-d11b-4b26-e897-f8d9fa5531a8"
      },
      "execution_count": 18,
      "outputs": [
        {
          "output_type": "execute_result",
          "data": {
            "text/plain": [
              "array([[ 1.        , -0.98221702, -0.78206699],\n",
              "       [ 1.        ,  1.91747159, -1.36709816],\n",
              "       [ 1.        ,  1.38378869, -1.42475428],\n",
              "       [ 1.        ,  1.2469239 , -1.7160026 ],\n",
              "       [ 1.        , -0.61161925, -0.42609328],\n",
              "       [ 1.        , -1.08749226, -1.16081696],\n",
              "       [ 1.        , -1.38183821, -1.05448172],\n",
              "       [ 1.        , -2.60674166, -2.49108522],\n",
              "       [ 1.        , -1.066895  , -1.56057167],\n",
              "       [ 1.        ,  2.62945908, -0.84878879],\n",
              "       [ 1.        ,  1.74936047, -1.21891837],\n",
              "       [ 1.        ,  2.65694675, -1.49280756],\n",
              "       [ 1.        , -0.9747746 , -0.05268073],\n",
              "       [ 1.        ,  0.73456461, -2.42487075],\n",
              "       [ 1.        , -2.29019556, -1.91552354],\n",
              "       [ 1.        , -1.00977934, -0.61662801],\n",
              "       [ 1.        ,  3.12728189, -0.44122573],\n",
              "       [ 1.        , -0.68074965, -0.37879141],\n",
              "       [ 1.        , -1.91216434, -3.39426972],\n",
              "       [ 1.        ,  1.012618  , -1.10786361],\n",
              "       [ 1.        ,  0.58490007, -2.02259229],\n",
              "       [ 1.        ,  0.41189358, -2.02088966],\n",
              "       [ 1.        ,  1.09148992, -1.37677056],\n",
              "       [ 1.        ,  0.8960253 , -2.17064887],\n",
              "       [ 1.        , -1.17449854, -1.02577294],\n",
              "       [ 1.        ,  2.50141541, -0.53761801],\n",
              "       [ 1.        ,  2.34208015, -0.84586556],\n",
              "       [ 1.        , -1.12365955, -1.42164859],\n",
              "       [ 1.        ,  1.47916906, -1.16087127],\n",
              "       [ 1.        ,  1.32110246, -1.21656316],\n",
              "       [ 1.        ,  0.72079911, -2.34463546],\n",
              "       [ 1.        , -1.55172963, -0.76699935],\n",
              "       [ 1.        , -2.61651888, -3.15004766],\n",
              "       [ 1.        , -1.50409969, -0.80384789],\n",
              "       [ 1.        , -1.37259859, -1.554345  ],\n",
              "       [ 1.        , -2.26598659, -3.21709016],\n",
              "       [ 1.        , -1.78606042, -1.92076007],\n",
              "       [ 1.        ,  1.78356698, -1.68233322],\n",
              "       [ 1.        , -2.65300462, -3.1885842 ],\n",
              "       [ 1.        ,  0.94598558, -1.88661615],\n",
              "       [ 1.        , -0.34118144, -2.44029333],\n",
              "       [ 1.        , -1.48550349, -1.64566671],\n",
              "       [ 1.        , -1.66963313, -0.22201764],\n",
              "       [ 1.        ,  2.33206525, -1.24561534],\n",
              "       [ 1.        ,  1.80117175, -1.38190168],\n",
              "       [ 1.        ,  1.14260994, -0.97459868],\n",
              "       [ 1.        , -0.25386568, -2.75796056],\n",
              "       [ 1.        , -1.4715037 , -0.25573225],\n",
              "       [ 1.        , -1.90766172, -2.51703536],\n",
              "       [ 1.        , -1.45250335, -1.3416742 ],\n",
              "       [ 1.        ,  0.4483675 , -2.06152648],\n",
              "       [ 1.        , -1.63987431, -1.36210383],\n",
              "       [ 1.        ,  3.18010925, -0.82159682],\n",
              "       [ 1.        ,  2.46139854, -0.73257258],\n",
              "       [ 1.        , -0.52676286, -0.43200492],\n",
              "       [ 1.        , -0.33738597,  0.36970406],\n",
              "       [ 1.        , -0.93167485, -0.92207294],\n",
              "       [ 1.        ,  2.53722337, -0.9905997 ],\n",
              "       [ 1.        , -1.66976879, -1.65077851],\n",
              "       [ 1.        , -1.47499184, -1.35346679],\n",
              "       [ 1.        , -1.43142729, -1.60424402],\n",
              "       [ 1.        , -1.44783015, -2.17948078],\n",
              "       [ 1.        ,  3.33870427, -0.57035103],\n",
              "       [ 1.        , -2.16859117, -1.58267582],\n",
              "       [ 1.        , -1.74993128, -1.91723933],\n",
              "       [ 1.        ,  4.08506475, -0.03867084],\n",
              "       [ 1.        , -0.99426568, -2.1294423 ],\n",
              "       [ 1.        ,  1.67095313, -1.64111003],\n",
              "       [ 1.        ,  1.9543218 , -0.97592044],\n",
              "       [ 1.        ,  1.90603029, -1.0939222 ],\n",
              "       [ 1.        ,  1.76147925, -1.65872843],\n",
              "       [ 1.        , -1.04030079, -1.01742972],\n",
              "       [ 1.        ,  2.90986664, -0.70567285],\n",
              "       [ 1.        ,  1.58215874, -1.72856774],\n",
              "       [ 1.        , -0.97539621, -0.56353882],\n",
              "       [ 1.        ,  1.28394704, -1.4685413 ],\n",
              "       [ 1.        , -0.55059925, -0.66169855],\n",
              "       [ 1.        , -1.68453301, -1.72934736],\n",
              "       [ 1.        , -0.95352977, -0.28095278],\n",
              "       [ 1.        ,  2.46263849, -0.76239215],\n",
              "       [ 1.        ,  1.6783791 , -1.49569562],\n",
              "       [ 1.        ,  1.30181576, -1.39476163],\n",
              "       [ 1.        , -1.59893956, -2.95380027],\n",
              "       [ 1.        ,  1.35757528, -1.60399563],\n",
              "       [ 1.        ,  1.28628291, -1.96538379],\n",
              "       [ 1.        , -0.76751423, -1.69516651],\n",
              "       [ 1.        , -1.83209756, -3.15158841],\n",
              "       [ 1.        ,  0.40287763, -2.2842772 ],\n",
              "       [ 1.        ,  1.20547252, -1.9702806 ],\n",
              "       [ 1.        ,  1.67174679, -1.50236961],\n",
              "       [ 1.        ,  1.12260014, -1.98222889],\n",
              "       [ 1.        ,  1.82712345, -1.54306465],\n",
              "       [ 1.        , -1.27230204, -0.56527799],\n",
              "       [ 1.        , -1.62983001, -1.50670594],\n",
              "       [ 1.        , -0.69852893,  0.15355092],\n",
              "       [ 1.        , -2.21244266, -2.6772304 ],\n",
              "       [ 1.        , -0.59195834,  0.52541377],\n",
              "       [ 1.        ,  1.33033804, -1.54064708],\n",
              "       [ 1.        , -1.92629254, -1.53359265],\n",
              "       [ 1.        ,  1.16338902, -1.32739718]])"
            ]
          },
          "metadata": {},
          "execution_count": 18
        }
      ]
    },
    {
      "cell_type": "code",
      "source": [
        ""
      ],
      "metadata": {
        "id": "_leBupVgezMJ"
      },
      "execution_count": null,
      "outputs": []
    }
  ]
}