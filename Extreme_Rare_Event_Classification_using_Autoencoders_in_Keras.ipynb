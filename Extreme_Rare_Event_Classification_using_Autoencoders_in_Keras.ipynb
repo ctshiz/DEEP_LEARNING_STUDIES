{
  "nbformat": 4,
  "nbformat_minor": 0,
  "metadata": {
    "colab": {
      "name": "Extreme Rare Event Classification using Autoencoders in Keras.ipynb",
      "provenance": [],
      "collapsed_sections": [],
      "authorship_tag": "ABX9TyNJz5f9CGbUtTRKAIDzb0ur",
      "include_colab_link": true
    },
    "kernelspec": {
      "name": "python3",
      "display_name": "Python 3"
    },
    "language_info": {
      "name": "python"
    }
  },
  "cells": [
    {
      "cell_type": "markdown",
      "metadata": {
        "id": "view-in-github",
        "colab_type": "text"
      },
      "source": [
        "<a href=\"https://colab.research.google.com/github/ctshiz/DEEP_LEARNING_STUDIES/blob/main/Extreme_Rare_Event_Classification_using_Autoencoders_in_Keras.ipynb\" target=\"_parent\"><img src=\"https://colab.research.google.com/assets/colab-badge.svg\" alt=\"Open In Colab\"/></a>"
      ]
    },
    {
      "cell_type": "code",
      "execution_count": 1,
      "metadata": {
        "id": "LBpZU07gGIJM"
      },
      "outputs": [],
      "source": [
        "# All credits to Chitta Ranjan\n",
        "# https://towardsdatascience.com/extreme-rare-event-classification-using-autoencoders-in-keras-a565b386f098"
      ]
    },
    {
      "cell_type": "code",
      "source": [
        "#import the desired libraries\n",
        "import pandas as pd\n",
        "import numpy as np\n",
        "from pylab import rcParams\n",
        "\n",
        "import tensorflow as tf\n",
        "from keras.models import Model, load_model\n",
        "from keras.layers import Input, Dense\n",
        "from keras.callbacks import ModelCheckpoint, TensorBoard\n",
        "from keras import regularizers\n",
        "\n",
        "from sklearn"
      ],
      "metadata": {
        "id": "qUo-Ay_NG1AF"
      },
      "execution_count": null,
      "outputs": []
    }
  ]
}