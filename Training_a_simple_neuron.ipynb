{
  "nbformat": 4,
  "nbformat_minor": 0,
  "metadata": {
    "colab": {
      "name": "Training a simple neuron.ipynb",
      "provenance": [],
      "collapsed_sections": [],
      "authorship_tag": "ABX9TyNaJw3q7Ch6pa5rbzFxZ0Rj",
      "include_colab_link": true
    },
    "kernelspec": {
      "name": "python3",
      "display_name": "Python 3"
    },
    "language_info": {
      "name": "python"
    }
  },
  "cells": [
    {
      "cell_type": "markdown",
      "metadata": {
        "id": "view-in-github",
        "colab_type": "text"
      },
      "source": [
        "<a href=\"https://colab.research.google.com/github/ctshiz/DEEP_LEARNING_STUDIES/blob/main/Training_a_simple_neuron.ipynb\" target=\"_parent\"><img src=\"https://colab.research.google.com/assets/colab-badge.svg\" alt=\"Open In Colab\"/></a>"
      ]
    },
    {
      "cell_type": "code",
      "execution_count": 1,
      "metadata": {
        "id": "3-JIkUPhcOxZ"
      },
      "outputs": [],
      "source": [
        "from sklearn.datasets import make_classification\n",
        "\n",
        "X,y = make_classification(n_samples=100, n_features=2, n_classes=2, n_informative=2, n_redundant=0, n_repeated=0, n_clusters_per_class =1, class_sep=1.5, random_state=5)"
      ]
    },
    {
      "cell_type": "code",
      "source": [
        "#replacing the zero target with the negative targets \n",
        "y[y==0]=-1"
      ],
      "metadata": {
        "id": "wSxzUq_wcqZY"
      },
      "execution_count": 2,
      "outputs": []
    },
    {
      "cell_type": "code",
      "source": [
        "import seaborn as sns\n",
        "import pandas as pd"
      ],
      "metadata": {
        "id": "svkL16IKc1o6"
      },
      "execution_count": 3,
      "outputs": []
    },
    {
      "cell_type": "code",
      "source": [
        "df = pd.DataFrame(X, columns=['D1', 'D2'])"
      ],
      "metadata": {
        "id": "BeIfamhHdW19"
      },
      "execution_count": 4,
      "outputs": []
    },
    {
      "cell_type": "code",
      "source": [
        "sns.scatterplot(data=df, x='D1', y='D2', hue=y)"
      ],
      "metadata": {
        "colab": {
          "base_uri": "https://localhost:8080/",
          "height": 296
        },
        "id": "QGTS-TWyd6fL",
        "outputId": "9c8b3b42-919f-4ad0-eddb-eb9a5715ed1a"
      },
      "execution_count": 5,
      "outputs": [
        {
          "output_type": "execute_result",
          "data": {
            "text/plain": [
              "<matplotlib.axes._subplots.AxesSubplot at 0x7f6b3a9673d0>"
            ]
          },
          "metadata": {},
          "execution_count": 5
        },
        {
          "output_type": "display_data",
          "data": {
            "text/plain": [
              "<Figure size 432x288 with 1 Axes>"
            ],
            "image/png": "[encoded data removed]"
          },
          "metadata": {
            "needs_background": "light"
          }
        }
      ]
    },
    {
      "cell_type": "markdown",
      "source": [
        "THE PERCEPTRON LEARNING ALGORITHM"
      ],
      "metadata": {
        "id": "3_fkrpW5fZ-Q"
      }
    },
    {
      "cell_type": "code",
      "source": [
        "#add the number 1 to each input vector by adding a vector of ones to X with length N=100\n",
        "import numpy as np\n",
        "import random\n",
        "X_train = np.append(np.ones((100,1)), X, 1)"
      ],
      "metadata": {
        "id": "XvxmYBcJeSWc"
      },
      "execution_count": 6,
      "outputs": []
    },
    {
      "cell_type": "code",
      "source": [
        "def classification_error(w, X, y):\n",
        "  s = np.sign(X.dot(w))\n",
        "  return sum(s != y)"
      ],
      "metadata": {
        "id": "PJqQqiwbiMqx"
      },
      "execution_count": 7,
      "outputs": []
    },
    {
      "cell_type": "code",
      "source": [
        "def choose_miscl_point(w, X, y):\n",
        "  mispts = []\n",
        "  for n in range(len(X)):\n",
        "    if np.sign(w.T.dot(X[n])) != y[n]:\n",
        "      mispts.append((X[n],y[n]))\n",
        "  return mispts[random.randrange(0,len(mispts))]"
      ],
      "metadata": {
        "id": "dKc-R4jOjwkt"
      },
      "execution_count": 8,
      "outputs": []
    },
    {
      "cell_type": "code",
      "source": [
        "#initialize the weights to zero\n",
        "w = np.zeros(X_train.shape[1])\n",
        "it = 0\n",
        "while classification_error(w, X_train, y) != 0:\n",
        "  it += 1\n",
        "  #pickrandom misclassified point\n",
        "  x, s = choose_miscl_point(w, X_train, y)\n",
        "  #update weights\n",
        "  w = w + s*x\n",
        "  print(\"Total iterations: \", it)\n",
        "  print(\"weigths are: \", w)"
      ],
      "metadata": {
        "colab": {
          "base_uri": "https://localhost:8080/"
        },
        "id": "_leBupVgezMJ",
        "outputId": "681cb875-8fa9-463d-e8c3-091c44912e77"
      },
      "execution_count": 9,
      "outputs": [
        {
          "output_type": "stream",
          "name": "stdout",
          "text": [
            "Total iterations:  1\n",
            "weigths are:  [ 1.          1.30181576 -1.39476163]\n",
            "Total iterations:  2\n",
            "weigths are:  [ 0.          2.75431911 -0.05308743]\n",
            "Total iterations:  3\n",
            "weigths are:  [ 1.          2.41313767 -2.49338075]\n",
            "Total iterations:  4\n",
            "weigths are:  [ 0.          3.42291701 -1.87675274]\n",
            "Total iterations:  5\n",
            "weigths are:  [-1.          4.4171827   0.25268956]\n",
            "Total iterations:  6\n",
            "weigths are:  [ 0.          4.16331701 -2.505271  ]\n",
            "Total iterations:  7\n",
            "weigths are:  [-1.          4.93083124 -0.8101045 ]\n",
            "Total iterations:  8\n",
            "weigths are:  [ 0.          4.5896498  -3.25039782]\n",
            "Total iterations:  9\n",
            "weigths are:  [-1.          6.50181414  0.1438719 ]\n",
            "Total iterations:  10\n",
            "weigths are:  [ 0.          6.24794845 -2.61408866]\n"
          ]
        }
      ]
    },
    {
      "cell_type": "markdown",
      "source": [
        "CONVERGENCE ON NON-LINEARLY SEPARABLE DATA"
      ],
      "metadata": {
        "id": "DIIzcw7YmPVi"
      }
    },
    {
      "cell_type": "code",
      "source": [
        "X, y = make_classification(n_samples=100, n_features=2, n_classes=2, n_informative=2, n_redundant=0, n_repeated=0, n_clusters_per_class=1, class_sep=1.0, random_state=5)"
      ],
      "metadata": {
        "id": "Sy1LHLxVh7o9"
      },
      "execution_count": 11,
      "outputs": []
    },
    {
      "cell_type": "code",
      "source": [
        "y[y==0]=-1"
      ],
      "metadata": {
        "id": "DNTPS2q8iDP5"
      },
      "execution_count": 12,
      "outputs": []
    },
    {
      "cell_type": "code",
      "source": [
        "#add a column of ones\n",
        "X_train = np.append(np.ones((100,1)), X, 1)\n",
        "\n",
        "#initialize the weights to zeros\n",
        "w = np.zeros(X_train.shape[1])\n",
        "N = 100\n",
        "it = 0\n",
        "bestW = {}\n",
        "#dictionary to keep best solution\n",
        "bestW['err'] = N+1\n",
        "bestW['it'] = it\n",
        "\n",
        "#iterate until all points are correctly clssified or maximum iterations (i.e. 1000) are reached\n",
        "while it < 1000:\n",
        "  err = classification_error(w,X_train, y)\n",
        "  #enter to save a new w\n",
        "  if err < bestW['err']:\n",
        "    bestW['err'] = err\n",
        "    bestW['it'] = it\n",
        "    bestW['w'] = list(w)\n",
        "  #exit loop if there are no errors\n",
        "  if err == 0:\n",
        "    break\n",
        "  it += 1\n",
        "  #pick random misclassified point\n",
        "  x,s = choose_miscl_point(w,X_train,y)\n",
        "  #update weights\n",
        "  w += s*x\n",
        "\n",
        "print(\"Best found at iteration: \", bestW['it'])\n",
        "print(\"Number of misclassified points: \", bestW['err'])\n",
        "\n"
      ],
      "metadata": {
        "colab": {
          "base_uri": "https://localhost:8080/"
        },
        "id": "ja4RcT6KjDN4",
        "outputId": "5294df20-f95c-4e69-bd8f-79a0a9addd6a"
      },
      "execution_count": 13,
      "outputs": [
        {
          "output_type": "stream",
          "name": "stdout",
          "text": [
            "Best found at iteration:  23\n",
            "Number of misclassified points:  1\n"
          ]
        }
      ]
    },
    {
      "cell_type": "code",
      "source": [
        ""
      ],
      "metadata": {
        "id": "b01UKrTRSoVu"
      },
      "execution_count": null,
      "outputs": []
    }
  ]
}