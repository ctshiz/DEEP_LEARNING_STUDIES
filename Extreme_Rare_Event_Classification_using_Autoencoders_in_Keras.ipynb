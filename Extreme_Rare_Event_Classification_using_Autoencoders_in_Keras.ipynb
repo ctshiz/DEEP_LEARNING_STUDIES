{
  "nbformat": 4,
  "nbformat_minor": 0,
  "metadata": {
    "colab": {
      "name": "Extreme Rare Event Classification using Autoencoders in Keras.ipynb",
      "provenance": [],
      "collapsed_sections": [],
      "authorship_tag": "ABX9TyOzcnyuyx6DCMMcJIg3wZPG",
      "include_colab_link": true
    },
    "kernelspec": {
      "name": "python3",
      "display_name": "Python 3"
    },
    "language_info": {
      "name": "python"
    }
  },
  "cells": [
    {
      "cell_type": "markdown",
      "metadata": {
        "id": "view-in-github",
        "colab_type": "text"
      },
      "source": [
        "<a href=\"https://colab.research.google.com/github/ctshiz/DEEP_LEARNING_STUDIES/blob/main/Extreme_Rare_Event_Classification_using_Autoencoders_in_Keras.ipynb\" target=\"_parent\"><img src=\"https://colab.research.google.com/assets/colab-badge.svg\" alt=\"Open In Colab\"/></a>"
      ]
    },
    {
      "cell_type": "code",
      "execution_count": 1,
      "metadata": {
        "id": "LBpZU07gGIJM"
      },
      "outputs": [],
      "source": [
        "# All credits to Chitta Ranjan\n",
        "# https://towardsdatascience.com/extreme-rare-event-classification-using-autoencoders-in-keras-a565b386f098"
      ]
    },
    {
      "cell_type": "code",
      "source": [
        "#import the desired libraries\n",
        "import pandas as pd\n",
        "import numpy as np\n",
        "from pylab import rcParams\n",
        "import matplotlib.pyplot as plt\n",
        "import seaborn as sns\n",
        "\n",
        "import tensorflow as tf\n",
        "from keras.models import Model, load_model\n",
        "from keras.layers import Input, Dense\n",
        "from keras.callbacks import ModelCheckpoint, TensorBoard\n",
        "from keras import regularizers\n",
        "\n",
        "from sklearn.preprocessing import StandardScaler\n",
        "from sklearn.model_selection import train_test_split\n",
        "from sklearn.metrics import confusion_matrix, precision_recall_curve, recall_score, classification_report, auc, roc_curve, precision_recall_fscore_support, f1_score\n",
        "\n",
        "from numpy.random import seed\n",
        "seed(1)\n",
        "#from tensorflow import set_random_seed\n",
        "tf.random.set_seed(2)\n",
        "\n",
        "#used to help randomly select the data points\n",
        "SEED = 123\n",
        "DATA_SPLIT_PCT = 0.2\n",
        "\n",
        "rcParams['figure.figsize'] = 8,6\n",
        "LABELS = ['Normal','Break']"
      ],
      "metadata": {
        "id": "qUo-Ay_NG1AF"
      },
      "execution_count": 18,
      "outputs": []
    },
    {
      "cell_type": "code",
      "source": [
        "#read and prepare the data\n",
        "df = pd.read_csv(\"processminer-rare-event-mts - data.csv\")"
      ],
      "metadata": {
        "id": "mWKyrrpUJHVX"
      },
      "execution_count": 3,
      "outputs": []
    },
    {
      "cell_type": "code",
      "source": [
        "#count number of positive labels\n",
        "pos= len(df[df['y']==1])\n",
        "neg = len(df[df['y']==0])\n",
        "tot = len(df)\n",
        "print(\"Percentual of positive labels are :\", (pos/tot)*100)\n",
        "print(\"Percentual of negative labels are :\", (neg/tot)*100)"
      ],
      "metadata": {
        "colab": {
          "base_uri": "https://localhost:8080/"
        },
        "id": "Nb_LNz9PKaWY",
        "outputId": "24db270d-93ab-4eef-e3a2-d659ab53bf4c"
      },
      "execution_count": 4,
      "outputs": [
        {
          "output_type": "stream",
          "name": "stdout",
          "text": [
            "Percentual of positive labels are : 0.6739863028590064\n",
            "Percentual of negative labels are : 99.326013697141\n"
          ]
        }
      ]
    },
    {
      "cell_type": "code",
      "source": [
        "sign = lambda x:(1,-1)[x<0]\n",
        "\n",
        "def curve_shift(df, shift_by):\n",
        "  '''\n",
        "    This function will shift the binary labels in a dataframe.\n",
        "    The curve shift will be with respect to the 1s. \n",
        "    For example, if shift is -2, the following process\n",
        "    will happen: if row n is labeled as 1, then\n",
        "    - Make row (n+shift_by):(n+shift_by-1) = 1.\n",
        "    - Remove row n.\n",
        "    i.e. the labels will be shifted up to 2 rows up.\n",
        "    \n",
        "    Inputs:\n",
        "    df       A pandas dataframe with a binary labeled column. \n",
        "             This labeled column should be named as 'y'.\n",
        "    shift_by An integer denoting the number of rows to shift.\n",
        "    \n",
        "    Output\n",
        "    df       A dataframe with the binary labels shifted by shift.\n",
        "    '''\n",
        "  vector = df['y'].copy()\n",
        "  for s in range(abs(shift_by)):\n",
        "    tmp = vector.shift(sign(shift_by))\n",
        "    tmp = tmp.fillna(0)\n",
        "    vector += tmp\n",
        "  labelcol = 'y'\n",
        "  # add vector to the df\n",
        "  df.insert(loc=0,column=labelcol+'tmp', value=vector)\n",
        "  #remove the rows ewith labelcol == 1\n",
        "  df = df.drop(df[df[labelcol]==1].index)\n",
        "  # drop labelcol and rename the tmpo col as labelcol\n",
        "  df = df.drop(labelcol, axis=1)\n",
        "  df = df.rename(columns={labelcol+'tmp':labelcol})\n",
        "  #make the labelcol binary\n",
        "  df.loc[df[labelcol] > 0, labelcol] = 1\n",
        "  return df"
      ],
      "metadata": {
        "id": "sPe59tesKbLN"
      },
      "execution_count": 5,
      "outputs": []
    },
    {
      "cell_type": "code",
      "source": [
        "#remove time column, and the categorial columns\n",
        "df = df.drop(['time', 'x28', 'x61'], axis=1)"
      ],
      "metadata": {
        "id": "vbxpzaBtMcAq"
      },
      "execution_count": 6,
      "outputs": []
    },
    {
      "cell_type": "code",
      "source": [
        "df_train, df_test = train_test_split(df, test_size=DATA_SPLIT_PCT, random_state=SEED)\n",
        "df_train, df_valid = train_test_split(df_train, test_size=DATA_SPLIT_PCT, random_state=SEED)\n",
        "\n",
        "df_train_0 = df_train.loc[df['y']==0]\n",
        "df_train_1 = df_train.loc[df['y']==1]\n",
        "df_train_0_x = df_train_0.drop(['y'], axis=1)\n",
        "df_train_1_x = df_train_1.drop(['y'], axis=1)\n",
        "\n",
        "df_valid_0 = df_valid.loc[df['y']==0]\n",
        "df_valid_1 = df_valid.loc[df['y']==1]\n",
        "df_valid_0_x = df_valid_0.drop(['y'], axis=1)\n",
        "df_valid_1_x = df_valid_1.drop(['y'], axis=1)\n",
        "\n",
        "df_test_0 = df_test.loc[df['y']==0]\n",
        "df_test_1 = df_test.loc[df['y']==1]\n",
        "df_test_0_x = df_test_0.drop(['y'], axis=1)\n",
        "df_test_1_x = df_test_1.drop(['y'], axis=1)"
      ],
      "metadata": {
        "id": "7l2e99ZWTiPN"
      },
      "execution_count": 7,
      "outputs": []
    },
    {
      "cell_type": "code",
      "source": [
        "#Standardization\n",
        "scaler = StandardScaler().fit(df_train_0_x)\n",
        "df_train_0_x_rescaled = scaler.transform(df_train_0_x)\n",
        "df_valid_0_x_rescaled = scaler.transform(df_valid_0_x)\n",
        "df_valid_x_rescaled = scaler.transform(df_valid.drop(['y'], axis=1))\n",
        "\n",
        "\n",
        "df_test_0_x_rescaled = scaler.transform(df_test_0_x)\n",
        "df_test_x_rescaled = scaler.transform(df_test.drop(['y'], axis=1))"
      ],
      "metadata": {
        "id": "79jhwrmwXl2V"
      },
      "execution_count": 8,
      "outputs": []
    },
    {
      "cell_type": "code",
      "source": [
        "#Autoencoder Classifier\n",
        "#initialization\n",
        "nb_epoch = 200\n",
        "batch_size = 128\n",
        "#num of predictor variables\n",
        "input_dim = df_train_0_x_rescaled.shape[1]\n",
        "encoding_dim = 32\n",
        "hidden_dim = int(encoding_dim/2)\n",
        "learning_rate = 1e-3\n",
        "\n",
        "input_layer = Input(shape=(input_dim,))\n",
        "encoder = Dense(encoding_dim, activation='relu',activity_regularizer=regularizers.l1(learning_rate))(input_layer)\n",
        "encoder = Dense(hidden_dim, activation='relu')(encoder)\n",
        "decoder = Dense(hidden_dim, activation='relu')(encoder)\n",
        "decoder = Dense(encoding_dim, activation ='relu')(decoder)\n",
        "decoder = Dense(input_dim, activation='linear')(decoder)\n",
        "autoencoder = Model(inputs=input_layer, outputs=decoder)\n",
        "autoencoder.summary()\n",
        "                                                                                                    "
      ],
      "metadata": {
        "colab": {
          "base_uri": "https://localhost:8080/"
        },
        "id": "6JkeFtW1Zbrk",
        "outputId": "1c978c4f-9028-455b-a379-8fcb345f7b52"
      },
      "execution_count": 9,
      "outputs": [
        {
          "output_type": "stream",
          "name": "stdout",
          "text": [
            "Model: \"model\"\n",
            "_________________________________________________________________\n",
            " Layer (type)                Output Shape              Param #   \n",
            "=================================================================\n",
            " input_1 (InputLayer)        [(None, 59)]              0         \n",
            "                                                                 \n",
            " dense (Dense)               (None, 32)                1920      \n",
            "                                                                 \n",
            " dense_1 (Dense)             (None, 16)                528       \n",
            "                                                                 \n",
            " dense_2 (Dense)             (None, 16)                272       \n",
            "                                                                 \n",
            " dense_3 (Dense)             (None, 32)                544       \n",
            "                                                                 \n",
            " dense_4 (Dense)             (None, 59)                1947      \n",
            "                                                                 \n",
            "=================================================================\n",
            "Total params: 5,211\n",
            "Trainable params: 5,211\n",
            "Non-trainable params: 0\n",
            "_________________________________________________________________\n"
          ]
        }
      ]
    },
    {
      "cell_type": "code",
      "source": [
        "#training\n",
        "autoencoder.compile(metrics=['accuracy'], loss='mean_squared_error', optimizer='adam')\n",
        "\n",
        "cp = ModelCheckpoint(filepath='autoencoder_classifier.h5',save_best_only=True, verbose=0)\n",
        "\n",
        "tb = TensorBoard(log_dir='./logs', histogram_freq=0, write_graph = True, write_images=True)\n",
        "\n",
        "history = autoencoder.fit(df_train_0_x_rescaled, df_train_0_x_rescaled, epochs=nb_epoch, batch_size=batch_size, shuffle=True, validation_data=(df_valid_0_x_rescaled,df_valid_0_x_rescaled),verbose=1,callbacks=[cp,tb]).history"
      ],
      "metadata": {
        "id": "vOeZzPZMbhGm",
        "colab": {
          "base_uri": "https://localhost:8080/"
        },
        "outputId": "fc6e5563-5805-401e-b140-d306158f9d68"
      },
      "execution_count": 10,
      "outputs": [
        {
          "output_type": "stream",
          "name": "stdout",
          "text": [
            "Epoch 1/200\n",
            "92/92 [==============================] - 2s 10ms/step - loss: 0.8785 - accuracy: 0.0472 - val_loss: 0.7359 - val_accuracy: 0.0602\n",
            "Epoch 2/200\n",
            "92/92 [==============================] - 1s 7ms/step - loss: 0.5571 - accuracy: 0.1072 - val_loss: 0.5029 - val_accuracy: 0.1538\n",
            "Epoch 3/200\n",
            "92/92 [==============================] - 1s 6ms/step - loss: 0.4187 - accuracy: 0.1832 - val_loss: 0.4144 - val_accuracy: 0.2269\n",
            "Epoch 4/200\n",
            "92/92 [==============================] - 1s 6ms/step - loss: 0.3518 - accuracy: 0.2501 - val_loss: 0.3627 - val_accuracy: 0.2823\n",
            "Epoch 5/200\n",
            "92/92 [==============================] - 1s 7ms/step - loss: 0.3127 - accuracy: 0.3032 - val_loss: 0.3296 - val_accuracy: 0.3161\n",
            "Epoch 6/200\n",
            "92/92 [==============================] - 1s 8ms/step - loss: 0.2867 - accuracy: 0.3284 - val_loss: 0.3068 - val_accuracy: 0.3599\n",
            "Epoch 7/200\n",
            "92/92 [==============================] - 1s 7ms/step - loss: 0.2672 - accuracy: 0.3517 - val_loss: 0.2877 - val_accuracy: 0.3739\n",
            "Epoch 8/200\n",
            "92/92 [==============================] - 1s 7ms/step - loss: 0.2517 - accuracy: 0.3624 - val_loss: 0.2724 - val_accuracy: 0.3852\n",
            "Epoch 9/200\n",
            "92/92 [==============================] - 1s 7ms/step - loss: 0.2388 - accuracy: 0.3874 - val_loss: 0.2594 - val_accuracy: 0.3975\n",
            "Epoch 10/200\n",
            "92/92 [==============================] - 1s 7ms/step - loss: 0.2278 - accuracy: 0.4042 - val_loss: 0.2479 - val_accuracy: 0.4211\n",
            "Epoch 11/200\n",
            "92/92 [==============================] - 1s 7ms/step - loss: 0.2186 - accuracy: 0.4196 - val_loss: 0.2391 - val_accuracy: 0.4327\n",
            "Epoch 12/200\n",
            "92/92 [==============================] - 1s 7ms/step - loss: 0.2109 - accuracy: 0.4324 - val_loss: 0.2312 - val_accuracy: 0.4477\n",
            "Epoch 13/200\n",
            "92/92 [==============================] - 1s 7ms/step - loss: 0.2043 - accuracy: 0.4466 - val_loss: 0.2240 - val_accuracy: 0.4563\n",
            "Epoch 14/200\n",
            "92/92 [==============================] - 1s 7ms/step - loss: 0.1984 - accuracy: 0.4558 - val_loss: 0.2188 - val_accuracy: 0.4604\n",
            "Epoch 15/200\n",
            "92/92 [==============================] - 1s 6ms/step - loss: 0.1935 - accuracy: 0.4656 - val_loss: 0.2131 - val_accuracy: 0.4819\n",
            "Epoch 16/200\n",
            "92/92 [==============================] - 1s 6ms/step - loss: 0.1886 - accuracy: 0.4703 - val_loss: 0.2081 - val_accuracy: 0.4921\n",
            "Epoch 17/200\n",
            "92/92 [==============================] - 1s 6ms/step - loss: 0.1846 - accuracy: 0.4808 - val_loss: 0.2040 - val_accuracy: 0.4997\n",
            "Epoch 18/200\n",
            "92/92 [==============================] - 1s 6ms/step - loss: 0.1804 - accuracy: 0.4879 - val_loss: 0.1998 - val_accuracy: 0.4962\n",
            "Epoch 19/200\n",
            "92/92 [==============================] - 1s 7ms/step - loss: 0.1762 - accuracy: 0.4959 - val_loss: 0.1955 - val_accuracy: 0.5085\n",
            "Epoch 20/200\n",
            "92/92 [==============================] - 1s 6ms/step - loss: 0.1725 - accuracy: 0.5013 - val_loss: 0.1923 - val_accuracy: 0.5120\n",
            "Epoch 21/200\n",
            "92/92 [==============================] - 1s 7ms/step - loss: 0.1689 - accuracy: 0.5092 - val_loss: 0.1886 - val_accuracy: 0.5239\n",
            "Epoch 22/200\n",
            "92/92 [==============================] - 1s 8ms/step - loss: 0.1658 - accuracy: 0.5117 - val_loss: 0.1851 - val_accuracy: 0.5301\n",
            "Epoch 23/200\n",
            "92/92 [==============================] - 1s 7ms/step - loss: 0.1630 - accuracy: 0.5200 - val_loss: 0.1820 - val_accuracy: 0.5328\n",
            "Epoch 24/200\n",
            "92/92 [==============================] - 1s 7ms/step - loss: 0.1605 - accuracy: 0.5205 - val_loss: 0.1798 - val_accuracy: 0.5352\n",
            "Epoch 25/200\n",
            "92/92 [==============================] - 1s 7ms/step - loss: 0.1579 - accuracy: 0.5305 - val_loss: 0.1774 - val_accuracy: 0.5379\n",
            "Epoch 26/200\n",
            "92/92 [==============================] - 1s 7ms/step - loss: 0.1556 - accuracy: 0.5345 - val_loss: 0.1752 - val_accuracy: 0.5468\n",
            "Epoch 27/200\n",
            "92/92 [==============================] - 1s 6ms/step - loss: 0.1534 - accuracy: 0.5375 - val_loss: 0.1733 - val_accuracy: 0.5393\n",
            "Epoch 28/200\n",
            "92/92 [==============================] - 1s 6ms/step - loss: 0.1516 - accuracy: 0.5387 - val_loss: 0.1703 - val_accuracy: 0.5619\n",
            "Epoch 29/200\n",
            "92/92 [==============================] - 1s 6ms/step - loss: 0.1494 - accuracy: 0.5448 - val_loss: 0.1684 - val_accuracy: 0.5530\n",
            "Epoch 30/200\n",
            "92/92 [==============================] - 1s 8ms/step - loss: 0.1476 - accuracy: 0.5440 - val_loss: 0.1668 - val_accuracy: 0.5492\n",
            "Epoch 31/200\n",
            "92/92 [==============================] - 1s 6ms/step - loss: 0.1460 - accuracy: 0.5497 - val_loss: 0.1651 - val_accuracy: 0.5557\n",
            "Epoch 32/200\n",
            "92/92 [==============================] - 1s 6ms/step - loss: 0.1445 - accuracy: 0.5519 - val_loss: 0.1640 - val_accuracy: 0.5523\n",
            "Epoch 33/200\n",
            "92/92 [==============================] - 1s 6ms/step - loss: 0.1431 - accuracy: 0.5507 - val_loss: 0.1625 - val_accuracy: 0.5653\n",
            "Epoch 34/200\n",
            "92/92 [==============================] - 1s 13ms/step - loss: 0.1416 - accuracy: 0.5564 - val_loss: 0.1611 - val_accuracy: 0.5632\n",
            "Epoch 35/200\n",
            "92/92 [==============================] - 1s 8ms/step - loss: 0.1405 - accuracy: 0.5564 - val_loss: 0.1601 - val_accuracy: 0.5557\n",
            "Epoch 36/200\n",
            "92/92 [==============================] - 1s 8ms/step - loss: 0.1393 - accuracy: 0.5557 - val_loss: 0.1588 - val_accuracy: 0.5632\n",
            "Epoch 37/200\n",
            "92/92 [==============================] - 1s 6ms/step - loss: 0.1381 - accuracy: 0.5578 - val_loss: 0.1568 - val_accuracy: 0.5677\n",
            "Epoch 38/200\n",
            "92/92 [==============================] - 1s 7ms/step - loss: 0.1369 - accuracy: 0.5579 - val_loss: 0.1566 - val_accuracy: 0.5636\n",
            "Epoch 39/200\n",
            "92/92 [==============================] - 1s 6ms/step - loss: 0.1359 - accuracy: 0.5610 - val_loss: 0.1549 - val_accuracy: 0.5731\n",
            "Epoch 40/200\n",
            "92/92 [==============================] - 1s 7ms/step - loss: 0.1352 - accuracy: 0.5619 - val_loss: 0.1543 - val_accuracy: 0.5687\n",
            "Epoch 41/200\n",
            "92/92 [==============================] - 1s 6ms/step - loss: 0.1340 - accuracy: 0.5643 - val_loss: 0.1527 - val_accuracy: 0.5748\n",
            "Epoch 42/200\n",
            "92/92 [==============================] - 1s 6ms/step - loss: 0.1333 - accuracy: 0.5634 - val_loss: 0.1527 - val_accuracy: 0.5745\n",
            "Epoch 43/200\n",
            "92/92 [==============================] - 1s 6ms/step - loss: 0.1323 - accuracy: 0.5657 - val_loss: 0.1511 - val_accuracy: 0.5789\n",
            "Epoch 44/200\n",
            "92/92 [==============================] - 1s 6ms/step - loss: 0.1315 - accuracy: 0.5677 - val_loss: 0.1517 - val_accuracy: 0.5745\n",
            "Epoch 45/200\n",
            "92/92 [==============================] - 1s 7ms/step - loss: 0.1310 - accuracy: 0.5658 - val_loss: 0.1499 - val_accuracy: 0.5834\n",
            "Epoch 46/200\n",
            "92/92 [==============================] - 1s 8ms/step - loss: 0.1302 - accuracy: 0.5684 - val_loss: 0.1487 - val_accuracy: 0.5731\n",
            "Epoch 47/200\n",
            "92/92 [==============================] - 1s 6ms/step - loss: 0.1294 - accuracy: 0.5665 - val_loss: 0.1481 - val_accuracy: 0.5745\n",
            "Epoch 48/200\n",
            "92/92 [==============================] - 1s 6ms/step - loss: 0.1285 - accuracy: 0.5707 - val_loss: 0.1467 - val_accuracy: 0.5748\n",
            "Epoch 49/200\n",
            "92/92 [==============================] - 0s 5ms/step - loss: 0.1279 - accuracy: 0.5690 - val_loss: 0.1472 - val_accuracy: 0.5803\n",
            "Epoch 50/200\n",
            "92/92 [==============================] - 1s 6ms/step - loss: 0.1272 - accuracy: 0.5691 - val_loss: 0.1457 - val_accuracy: 0.5742\n",
            "Epoch 51/200\n",
            "92/92 [==============================] - 1s 6ms/step - loss: 0.1266 - accuracy: 0.5717 - val_loss: 0.1447 - val_accuracy: 0.5772\n",
            "Epoch 52/200\n",
            "92/92 [==============================] - 1s 6ms/step - loss: 0.1256 - accuracy: 0.5710 - val_loss: 0.1443 - val_accuracy: 0.5817\n",
            "Epoch 53/200\n",
            "92/92 [==============================] - 1s 6ms/step - loss: 0.1252 - accuracy: 0.5733 - val_loss: 0.1437 - val_accuracy: 0.5803\n",
            "Epoch 54/200\n",
            "92/92 [==============================] - 0s 5ms/step - loss: 0.1243 - accuracy: 0.5748 - val_loss: 0.1430 - val_accuracy: 0.5796\n",
            "Epoch 55/200\n",
            "92/92 [==============================] - 1s 7ms/step - loss: 0.1238 - accuracy: 0.5741 - val_loss: 0.1424 - val_accuracy: 0.5933\n",
            "Epoch 56/200\n",
            "92/92 [==============================] - 1s 11ms/step - loss: 0.1231 - accuracy: 0.5743 - val_loss: 0.1411 - val_accuracy: 0.5701\n",
            "Epoch 57/200\n",
            "92/92 [==============================] - 1s 8ms/step - loss: 0.1224 - accuracy: 0.5748 - val_loss: 0.1406 - val_accuracy: 0.5868\n",
            "Epoch 58/200\n",
            "92/92 [==============================] - 1s 7ms/step - loss: 0.1220 - accuracy: 0.5766 - val_loss: 0.1399 - val_accuracy: 0.5827\n",
            "Epoch 59/200\n",
            "92/92 [==============================] - 1s 6ms/step - loss: 0.1209 - accuracy: 0.5788 - val_loss: 0.1394 - val_accuracy: 0.5899\n",
            "Epoch 60/200\n",
            "92/92 [==============================] - 1s 6ms/step - loss: 0.1203 - accuracy: 0.5780 - val_loss: 0.1389 - val_accuracy: 0.5677\n",
            "Epoch 61/200\n",
            "92/92 [==============================] - 1s 7ms/step - loss: 0.1195 - accuracy: 0.5810 - val_loss: 0.1377 - val_accuracy: 0.5748\n",
            "Epoch 62/200\n",
            "92/92 [==============================] - 1s 6ms/step - loss: 0.1189 - accuracy: 0.5816 - val_loss: 0.1375 - val_accuracy: 0.5885\n",
            "Epoch 63/200\n",
            "92/92 [==============================] - 1s 6ms/step - loss: 0.1184 - accuracy: 0.5807 - val_loss: 0.1368 - val_accuracy: 0.5731\n",
            "Epoch 64/200\n",
            "92/92 [==============================] - 1s 5ms/step - loss: 0.1178 - accuracy: 0.5810 - val_loss: 0.1364 - val_accuracy: 0.5878\n",
            "Epoch 65/200\n",
            "92/92 [==============================] - 1s 6ms/step - loss: 0.1172 - accuracy: 0.5839 - val_loss: 0.1354 - val_accuracy: 0.5817\n",
            "Epoch 66/200\n",
            "92/92 [==============================] - 1s 7ms/step - loss: 0.1164 - accuracy: 0.5826 - val_loss: 0.1347 - val_accuracy: 0.5882\n",
            "Epoch 67/200\n",
            "92/92 [==============================] - 0s 5ms/step - loss: 0.1160 - accuracy: 0.5831 - val_loss: 0.1348 - val_accuracy: 0.5803\n",
            "Epoch 68/200\n",
            "92/92 [==============================] - 1s 7ms/step - loss: 0.1156 - accuracy: 0.5884 - val_loss: 0.1341 - val_accuracy: 0.5858\n",
            "Epoch 69/200\n",
            "92/92 [==============================] - 1s 6ms/step - loss: 0.1146 - accuracy: 0.5873 - val_loss: 0.1330 - val_accuracy: 0.5930\n",
            "Epoch 70/200\n",
            "92/92 [==============================] - 1s 7ms/step - loss: 0.1138 - accuracy: 0.5881 - val_loss: 0.1335 - val_accuracy: 0.5923\n",
            "Epoch 71/200\n",
            "92/92 [==============================] - 1s 8ms/step - loss: 0.1137 - accuracy: 0.5911 - val_loss: 0.1318 - val_accuracy: 0.5899\n",
            "Epoch 72/200\n",
            "92/92 [==============================] - 1s 5ms/step - loss: 0.1127 - accuracy: 0.5937 - val_loss: 0.1315 - val_accuracy: 0.5906\n",
            "Epoch 73/200\n",
            "92/92 [==============================] - 1s 6ms/step - loss: 0.1121 - accuracy: 0.5909 - val_loss: 0.1316 - val_accuracy: 0.5878\n",
            "Epoch 74/200\n",
            "92/92 [==============================] - 1s 7ms/step - loss: 0.1116 - accuracy: 0.5933 - val_loss: 0.1305 - val_accuracy: 0.5957\n",
            "Epoch 75/200\n",
            "92/92 [==============================] - 1s 7ms/step - loss: 0.1109 - accuracy: 0.5937 - val_loss: 0.1299 - val_accuracy: 0.6042\n",
            "Epoch 76/200\n",
            "92/92 [==============================] - 1s 7ms/step - loss: 0.1104 - accuracy: 0.5934 - val_loss: 0.1291 - val_accuracy: 0.5885\n",
            "Epoch 77/200\n",
            "92/92 [==============================] - 1s 6ms/step - loss: 0.1098 - accuracy: 0.5985 - val_loss: 0.1293 - val_accuracy: 0.5971\n",
            "Epoch 78/200\n",
            "92/92 [==============================] - 1s 7ms/step - loss: 0.1095 - accuracy: 0.5993 - val_loss: 0.1284 - val_accuracy: 0.5967\n",
            "Epoch 79/200\n",
            "92/92 [==============================] - 1s 7ms/step - loss: 0.1087 - accuracy: 0.5980 - val_loss: 0.1274 - val_accuracy: 0.6015\n",
            "Epoch 80/200\n",
            "92/92 [==============================] - 1s 6ms/step - loss: 0.1083 - accuracy: 0.6004 - val_loss: 0.1270 - val_accuracy: 0.6025\n",
            "Epoch 81/200\n",
            "92/92 [==============================] - 1s 6ms/step - loss: 0.1077 - accuracy: 0.6010 - val_loss: 0.1277 - val_accuracy: 0.5991\n",
            "Epoch 82/200\n",
            "92/92 [==============================] - 1s 11ms/step - loss: 0.1071 - accuracy: 0.6013 - val_loss: 0.1259 - val_accuracy: 0.6128\n",
            "Epoch 83/200\n",
            "92/92 [==============================] - 1s 7ms/step - loss: 0.1068 - accuracy: 0.6032 - val_loss: 0.1259 - val_accuracy: 0.6022\n",
            "Epoch 84/200\n",
            "92/92 [==============================] - 1s 7ms/step - loss: 0.1064 - accuracy: 0.6022 - val_loss: 0.1247 - val_accuracy: 0.6094\n",
            "Epoch 85/200\n",
            "92/92 [==============================] - 1s 7ms/step - loss: 0.1058 - accuracy: 0.6042 - val_loss: 0.1244 - val_accuracy: 0.6063\n",
            "Epoch 86/200\n",
            "92/92 [==============================] - 1s 6ms/step - loss: 0.1056 - accuracy: 0.6010 - val_loss: 0.1243 - val_accuracy: 0.6053\n",
            "Epoch 87/200\n",
            "92/92 [==============================] - 1s 7ms/step - loss: 0.1051 - accuracy: 0.6047 - val_loss: 0.1237 - val_accuracy: 0.6097\n",
            "Epoch 88/200\n",
            "92/92 [==============================] - 1s 6ms/step - loss: 0.1046 - accuracy: 0.6066 - val_loss: 0.1234 - val_accuracy: 0.6097\n",
            "Epoch 89/200\n",
            "92/92 [==============================] - 1s 6ms/step - loss: 0.1045 - accuracy: 0.6068 - val_loss: 0.1232 - val_accuracy: 0.6128\n",
            "Epoch 90/200\n",
            "92/92 [==============================] - 1s 6ms/step - loss: 0.1038 - accuracy: 0.6087 - val_loss: 0.1221 - val_accuracy: 0.6073\n",
            "Epoch 91/200\n",
            "92/92 [==============================] - 1s 7ms/step - loss: 0.1035 - accuracy: 0.6074 - val_loss: 0.1220 - val_accuracy: 0.6176\n",
            "Epoch 92/200\n",
            "92/92 [==============================] - 1s 7ms/step - loss: 0.1031 - accuracy: 0.6087 - val_loss: 0.1225 - val_accuracy: 0.6107\n",
            "Epoch 93/200\n",
            "92/92 [==============================] - 1s 6ms/step - loss: 0.1031 - accuracy: 0.6082 - val_loss: 0.1214 - val_accuracy: 0.6203\n",
            "Epoch 94/200\n",
            "92/92 [==============================] - 1s 7ms/step - loss: 0.1025 - accuracy: 0.6115 - val_loss: 0.1208 - val_accuracy: 0.6220\n",
            "Epoch 95/200\n",
            "92/92 [==============================] - 1s 6ms/step - loss: 0.1024 - accuracy: 0.6107 - val_loss: 0.1202 - val_accuracy: 0.6278\n",
            "Epoch 96/200\n",
            "92/92 [==============================] - 1s 6ms/step - loss: 0.1018 - accuracy: 0.6129 - val_loss: 0.1205 - val_accuracy: 0.6237\n",
            "Epoch 97/200\n",
            "92/92 [==============================] - 1s 13ms/step - loss: 0.1015 - accuracy: 0.6095 - val_loss: 0.1207 - val_accuracy: 0.6159\n",
            "Epoch 98/200\n",
            "92/92 [==============================] - 1s 7ms/step - loss: 0.1013 - accuracy: 0.6135 - val_loss: 0.1195 - val_accuracy: 0.6196\n",
            "Epoch 99/200\n",
            "92/92 [==============================] - 1s 6ms/step - loss: 0.1009 - accuracy: 0.6105 - val_loss: 0.1189 - val_accuracy: 0.6186\n",
            "Epoch 100/200\n",
            "92/92 [==============================] - 1s 6ms/step - loss: 0.1006 - accuracy: 0.6127 - val_loss: 0.1201 - val_accuracy: 0.6155\n",
            "Epoch 101/200\n",
            "92/92 [==============================] - 1s 8ms/step - loss: 0.1006 - accuracy: 0.6124 - val_loss: 0.1197 - val_accuracy: 0.6128\n",
            "Epoch 102/200\n",
            "92/92 [==============================] - 1s 7ms/step - loss: 0.1002 - accuracy: 0.6113 - val_loss: 0.1182 - val_accuracy: 0.6210\n",
            "Epoch 103/200\n",
            "92/92 [==============================] - 1s 7ms/step - loss: 0.0997 - accuracy: 0.6157 - val_loss: 0.1176 - val_accuracy: 0.6227\n",
            "Epoch 104/200\n",
            "92/92 [==============================] - 1s 6ms/step - loss: 0.0994 - accuracy: 0.6146 - val_loss: 0.1187 - val_accuracy: 0.6189\n",
            "Epoch 105/200\n",
            "92/92 [==============================] - 1s 8ms/step - loss: 0.0998 - accuracy: 0.6144 - val_loss: 0.1171 - val_accuracy: 0.6227\n",
            "Epoch 106/200\n",
            "92/92 [==============================] - 1s 7ms/step - loss: 0.0991 - accuracy: 0.6147 - val_loss: 0.1173 - val_accuracy: 0.6141\n",
            "Epoch 107/200\n",
            "92/92 [==============================] - 1s 7ms/step - loss: 0.0987 - accuracy: 0.6146 - val_loss: 0.1166 - val_accuracy: 0.6165\n",
            "Epoch 108/200\n",
            "92/92 [==============================] - 1s 6ms/step - loss: 0.0985 - accuracy: 0.6129 - val_loss: 0.1171 - val_accuracy: 0.6193\n",
            "Epoch 109/200\n",
            "92/92 [==============================] - 1s 7ms/step - loss: 0.0984 - accuracy: 0.6146 - val_loss: 0.1164 - val_accuracy: 0.6217\n",
            "Epoch 110/200\n",
            "92/92 [==============================] - 1s 6ms/step - loss: 0.0981 - accuracy: 0.6161 - val_loss: 0.1161 - val_accuracy: 0.6203\n",
            "Epoch 111/200\n",
            "92/92 [==============================] - 1s 6ms/step - loss: 0.0980 - accuracy: 0.6147 - val_loss: 0.1167 - val_accuracy: 0.6186\n",
            "Epoch 112/200\n",
            "92/92 [==============================] - 1s 6ms/step - loss: 0.0979 - accuracy: 0.6167 - val_loss: 0.1158 - val_accuracy: 0.6237\n",
            "Epoch 113/200\n",
            "92/92 [==============================] - 1s 7ms/step - loss: 0.0976 - accuracy: 0.6171 - val_loss: 0.1149 - val_accuracy: 0.6152\n",
            "Epoch 114/200\n",
            "92/92 [==============================] - 1s 5ms/step - loss: 0.0972 - accuracy: 0.6138 - val_loss: 0.1151 - val_accuracy: 0.6183\n",
            "Epoch 115/200\n",
            "92/92 [==============================] - 1s 6ms/step - loss: 0.0969 - accuracy: 0.6118 - val_loss: 0.1149 - val_accuracy: 0.6200\n",
            "Epoch 116/200\n",
            "92/92 [==============================] - 1s 7ms/step - loss: 0.0968 - accuracy: 0.6193 - val_loss: 0.1141 - val_accuracy: 0.6265\n",
            "Epoch 117/200\n",
            "92/92 [==============================] - 1s 7ms/step - loss: 0.0964 - accuracy: 0.6190 - val_loss: 0.1137 - val_accuracy: 0.6234\n",
            "Epoch 118/200\n",
            "92/92 [==============================] - 1s 6ms/step - loss: 0.0963 - accuracy: 0.6203 - val_loss: 0.1151 - val_accuracy: 0.6210\n",
            "Epoch 119/200\n",
            "92/92 [==============================] - 1s 8ms/step - loss: 0.0961 - accuracy: 0.6195 - val_loss: 0.1136 - val_accuracy: 0.6329\n",
            "Epoch 120/200\n",
            "92/92 [==============================] - 1s 6ms/step - loss: 0.0960 - accuracy: 0.6185 - val_loss: 0.1145 - val_accuracy: 0.6336\n",
            "Epoch 121/200\n",
            "92/92 [==============================] - 1s 8ms/step - loss: 0.0958 - accuracy: 0.6199 - val_loss: 0.1135 - val_accuracy: 0.6288\n",
            "Epoch 122/200\n",
            "92/92 [==============================] - 1s 7ms/step - loss: 0.0955 - accuracy: 0.6201 - val_loss: 0.1134 - val_accuracy: 0.6234\n",
            "Epoch 123/200\n",
            "92/92 [==============================] - 1s 7ms/step - loss: 0.0953 - accuracy: 0.6185 - val_loss: 0.1122 - val_accuracy: 0.6312\n",
            "Epoch 124/200\n",
            "92/92 [==============================] - 1s 7ms/step - loss: 0.0950 - accuracy: 0.6211 - val_loss: 0.1124 - val_accuracy: 0.6258\n",
            "Epoch 125/200\n",
            "92/92 [==============================] - 1s 8ms/step - loss: 0.0948 - accuracy: 0.6208 - val_loss: 0.1120 - val_accuracy: 0.6244\n",
            "Epoch 126/200\n",
            "92/92 [==============================] - 1s 7ms/step - loss: 0.0947 - accuracy: 0.6181 - val_loss: 0.1119 - val_accuracy: 0.6210\n",
            "Epoch 127/200\n",
            "92/92 [==============================] - 1s 7ms/step - loss: 0.0947 - accuracy: 0.6186 - val_loss: 0.1126 - val_accuracy: 0.6230\n",
            "Epoch 128/200\n",
            "92/92 [==============================] - 1s 7ms/step - loss: 0.0941 - accuracy: 0.6162 - val_loss: 0.1117 - val_accuracy: 0.6244\n",
            "Epoch 129/200\n",
            "92/92 [==============================] - 1s 7ms/step - loss: 0.0942 - accuracy: 0.6218 - val_loss: 0.1125 - val_accuracy: 0.6254\n",
            "Epoch 130/200\n",
            "92/92 [==============================] - 1s 12ms/step - loss: 0.0939 - accuracy: 0.6189 - val_loss: 0.1113 - val_accuracy: 0.6193\n",
            "Epoch 131/200\n",
            "92/92 [==============================] - 1s 9ms/step - loss: 0.0939 - accuracy: 0.6190 - val_loss: 0.1113 - val_accuracy: 0.6282\n",
            "Epoch 132/200\n",
            "92/92 [==============================] - 1s 7ms/step - loss: 0.0937 - accuracy: 0.6192 - val_loss: 0.1112 - val_accuracy: 0.6261\n",
            "Epoch 133/200\n",
            "92/92 [==============================] - 1s 8ms/step - loss: 0.0935 - accuracy: 0.6201 - val_loss: 0.1110 - val_accuracy: 0.6265\n",
            "Epoch 134/200\n",
            "92/92 [==============================] - 1s 7ms/step - loss: 0.0932 - accuracy: 0.6237 - val_loss: 0.1105 - val_accuracy: 0.6247\n",
            "Epoch 135/200\n",
            "92/92 [==============================] - 1s 7ms/step - loss: 0.0931 - accuracy: 0.6192 - val_loss: 0.1100 - val_accuracy: 0.6271\n",
            "Epoch 136/200\n",
            "92/92 [==============================] - 1s 7ms/step - loss: 0.0928 - accuracy: 0.6202 - val_loss: 0.1105 - val_accuracy: 0.6172\n",
            "Epoch 137/200\n",
            "92/92 [==============================] - 1s 7ms/step - loss: 0.0928 - accuracy: 0.6204 - val_loss: 0.1095 - val_accuracy: 0.6237\n",
            "Epoch 138/200\n",
            "92/92 [==============================] - 1s 9ms/step - loss: 0.0926 - accuracy: 0.6197 - val_loss: 0.1088 - val_accuracy: 0.6261\n",
            "Epoch 139/200\n",
            "92/92 [==============================] - 1s 7ms/step - loss: 0.0924 - accuracy: 0.6171 - val_loss: 0.1104 - val_accuracy: 0.6295\n",
            "Epoch 140/200\n",
            "92/92 [==============================] - 1s 6ms/step - loss: 0.0924 - accuracy: 0.6209 - val_loss: 0.1101 - val_accuracy: 0.6234\n",
            "Epoch 141/200\n",
            "92/92 [==============================] - 1s 7ms/step - loss: 0.0930 - accuracy: 0.6185 - val_loss: 0.1091 - val_accuracy: 0.6186\n",
            "Epoch 142/200\n",
            "92/92 [==============================] - 1s 7ms/step - loss: 0.0920 - accuracy: 0.6194 - val_loss: 0.1094 - val_accuracy: 0.6271\n",
            "Epoch 143/200\n",
            "92/92 [==============================] - 1s 6ms/step - loss: 0.0919 - accuracy: 0.6235 - val_loss: 0.1089 - val_accuracy: 0.6282\n",
            "Epoch 144/200\n",
            "92/92 [==============================] - 1s 7ms/step - loss: 0.0915 - accuracy: 0.6174 - val_loss: 0.1082 - val_accuracy: 0.6292\n",
            "Epoch 145/200\n",
            "92/92 [==============================] - 1s 6ms/step - loss: 0.0914 - accuracy: 0.6230 - val_loss: 0.1092 - val_accuracy: 0.6203\n",
            "Epoch 146/200\n",
            "92/92 [==============================] - 1s 7ms/step - loss: 0.0912 - accuracy: 0.6211 - val_loss: 0.1078 - val_accuracy: 0.6353\n",
            "Epoch 147/200\n",
            "92/92 [==============================] - 1s 8ms/step - loss: 0.0911 - accuracy: 0.6202 - val_loss: 0.1084 - val_accuracy: 0.6254\n",
            "Epoch 148/200\n",
            "92/92 [==============================] - 1s 8ms/step - loss: 0.0911 - accuracy: 0.6191 - val_loss: 0.1081 - val_accuracy: 0.6210\n",
            "Epoch 149/200\n",
            "92/92 [==============================] - 1s 7ms/step - loss: 0.0910 - accuracy: 0.6211 - val_loss: 0.1079 - val_accuracy: 0.6220\n",
            "Epoch 150/200\n",
            "92/92 [==============================] - 1s 7ms/step - loss: 0.0907 - accuracy: 0.6196 - val_loss: 0.1083 - val_accuracy: 0.6193\n",
            "Epoch 151/200\n",
            "92/92 [==============================] - 1s 8ms/step - loss: 0.0909 - accuracy: 0.6194 - val_loss: 0.1076 - val_accuracy: 0.6213\n",
            "Epoch 152/200\n",
            "92/92 [==============================] - 1s 7ms/step - loss: 0.0906 - accuracy: 0.6198 - val_loss: 0.1073 - val_accuracy: 0.6224\n",
            "Epoch 153/200\n",
            "92/92 [==============================] - 1s 8ms/step - loss: 0.0905 - accuracy: 0.6201 - val_loss: 0.1069 - val_accuracy: 0.6237\n",
            "Epoch 154/200\n",
            "92/92 [==============================] - 1s 8ms/step - loss: 0.0902 - accuracy: 0.6218 - val_loss: 0.1073 - val_accuracy: 0.6237\n",
            "Epoch 155/200\n",
            "92/92 [==============================] - 1s 8ms/step - loss: 0.0903 - accuracy: 0.6220 - val_loss: 0.1069 - val_accuracy: 0.6312\n",
            "Epoch 156/200\n",
            "92/92 [==============================] - 1s 6ms/step - loss: 0.0902 - accuracy: 0.6210 - val_loss: 0.1069 - val_accuracy: 0.6295\n",
            "Epoch 157/200\n",
            "92/92 [==============================] - 1s 8ms/step - loss: 0.0898 - accuracy: 0.6214 - val_loss: 0.1066 - val_accuracy: 0.6268\n",
            "Epoch 158/200\n",
            "92/92 [==============================] - 1s 7ms/step - loss: 0.0899 - accuracy: 0.6216 - val_loss: 0.1057 - val_accuracy: 0.6278\n",
            "Epoch 159/200\n",
            "92/92 [==============================] - 1s 7ms/step - loss: 0.0897 - accuracy: 0.6183 - val_loss: 0.1066 - val_accuracy: 0.6241\n",
            "Epoch 160/200\n",
            "92/92 [==============================] - 1s 8ms/step - loss: 0.0898 - accuracy: 0.6182 - val_loss: 0.1056 - val_accuracy: 0.6309\n",
            "Epoch 161/200\n",
            "92/92 [==============================] - 1s 6ms/step - loss: 0.0894 - accuracy: 0.6257 - val_loss: 0.1058 - val_accuracy: 0.6247\n",
            "Epoch 162/200\n",
            "92/92 [==============================] - 1s 6ms/step - loss: 0.0893 - accuracy: 0.6215 - val_loss: 0.1066 - val_accuracy: 0.6138\n",
            "Epoch 163/200\n",
            "92/92 [==============================] - 1s 6ms/step - loss: 0.0891 - accuracy: 0.6199 - val_loss: 0.1053 - val_accuracy: 0.6268\n",
            "Epoch 164/200\n",
            "92/92 [==============================] - 1s 7ms/step - loss: 0.0889 - accuracy: 0.6213 - val_loss: 0.1054 - val_accuracy: 0.6230\n",
            "Epoch 165/200\n",
            "92/92 [==============================] - 1s 6ms/step - loss: 0.0890 - accuracy: 0.6199 - val_loss: 0.1054 - val_accuracy: 0.6104\n",
            "Epoch 166/200\n",
            "92/92 [==============================] - 1s 7ms/step - loss: 0.0888 - accuracy: 0.6224 - val_loss: 0.1048 - val_accuracy: 0.6275\n",
            "Epoch 167/200\n",
            "92/92 [==============================] - 1s 9ms/step - loss: 0.0887 - accuracy: 0.6215 - val_loss: 0.1047 - val_accuracy: 0.6288\n",
            "Epoch 168/200\n",
            "92/92 [==============================] - 1s 7ms/step - loss: 0.0889 - accuracy: 0.6234 - val_loss: 0.1050 - val_accuracy: 0.6316\n",
            "Epoch 169/200\n",
            "92/92 [==============================] - 1s 7ms/step - loss: 0.0886 - accuracy: 0.6245 - val_loss: 0.1052 - val_accuracy: 0.6254\n",
            "Epoch 170/200\n",
            "92/92 [==============================] - 1s 8ms/step - loss: 0.0883 - accuracy: 0.6254 - val_loss: 0.1045 - val_accuracy: 0.6333\n",
            "Epoch 171/200\n",
            "92/92 [==============================] - 1s 8ms/step - loss: 0.0885 - accuracy: 0.6243 - val_loss: 0.1054 - val_accuracy: 0.6295\n",
            "Epoch 172/200\n",
            "92/92 [==============================] - 1s 7ms/step - loss: 0.0882 - accuracy: 0.6206 - val_loss: 0.1049 - val_accuracy: 0.6258\n",
            "Epoch 173/200\n",
            "92/92 [==============================] - 1s 8ms/step - loss: 0.0882 - accuracy: 0.6269 - val_loss: 0.1043 - val_accuracy: 0.6124\n",
            "Epoch 174/200\n",
            "92/92 [==============================] - 1s 8ms/step - loss: 0.0881 - accuracy: 0.6244 - val_loss: 0.1043 - val_accuracy: 0.6241\n",
            "Epoch 175/200\n",
            "92/92 [==============================] - 1s 15ms/step - loss: 0.0879 - accuracy: 0.6247 - val_loss: 0.1038 - val_accuracy: 0.6292\n",
            "Epoch 176/200\n",
            "92/92 [==============================] - 1s 7ms/step - loss: 0.0878 - accuracy: 0.6272 - val_loss: 0.1040 - val_accuracy: 0.6282\n",
            "Epoch 177/200\n",
            "92/92 [==============================] - 1s 7ms/step - loss: 0.0877 - accuracy: 0.6244 - val_loss: 0.1044 - val_accuracy: 0.6309\n",
            "Epoch 178/200\n",
            "92/92 [==============================] - 1s 7ms/step - loss: 0.0879 - accuracy: 0.6247 - val_loss: 0.1046 - val_accuracy: 0.6302\n",
            "Epoch 179/200\n",
            "92/92 [==============================] - 1s 7ms/step - loss: 0.0875 - accuracy: 0.6262 - val_loss: 0.1034 - val_accuracy: 0.6261\n",
            "Epoch 180/200\n",
            "92/92 [==============================] - 1s 7ms/step - loss: 0.0875 - accuracy: 0.6249 - val_loss: 0.1042 - val_accuracy: 0.6312\n",
            "Epoch 181/200\n",
            "92/92 [==============================] - 1s 7ms/step - loss: 0.0880 - accuracy: 0.6240 - val_loss: 0.1037 - val_accuracy: 0.6254\n",
            "Epoch 182/200\n",
            "92/92 [==============================] - 1s 6ms/step - loss: 0.0872 - accuracy: 0.6253 - val_loss: 0.1033 - val_accuracy: 0.6271\n",
            "Epoch 183/200\n",
            "92/92 [==============================] - 1s 7ms/step - loss: 0.0872 - accuracy: 0.6257 - val_loss: 0.1041 - val_accuracy: 0.6247\n",
            "Epoch 184/200\n",
            "92/92 [==============================] - 1s 7ms/step - loss: 0.0877 - accuracy: 0.6264 - val_loss: 0.1033 - val_accuracy: 0.6261\n",
            "Epoch 185/200\n",
            "92/92 [==============================] - 1s 6ms/step - loss: 0.0873 - accuracy: 0.6276 - val_loss: 0.1039 - val_accuracy: 0.6114\n",
            "Epoch 186/200\n",
            "92/92 [==============================] - 1s 7ms/step - loss: 0.0871 - accuracy: 0.6253 - val_loss: 0.1027 - val_accuracy: 0.6367\n",
            "Epoch 187/200\n",
            "92/92 [==============================] - 1s 7ms/step - loss: 0.0870 - accuracy: 0.6272 - val_loss: 0.1035 - val_accuracy: 0.6302\n",
            "Epoch 188/200\n",
            "92/92 [==============================] - 1s 7ms/step - loss: 0.0870 - accuracy: 0.6257 - val_loss: 0.1027 - val_accuracy: 0.6244\n",
            "Epoch 189/200\n",
            "92/92 [==============================] - 1s 7ms/step - loss: 0.0868 - accuracy: 0.6254 - val_loss: 0.1026 - val_accuracy: 0.6295\n",
            "Epoch 190/200\n",
            "92/92 [==============================] - 1s 7ms/step - loss: 0.0868 - accuracy: 0.6262 - val_loss: 0.1037 - val_accuracy: 0.6295\n",
            "Epoch 191/200\n",
            "92/92 [==============================] - 1s 7ms/step - loss: 0.0866 - accuracy: 0.6260 - val_loss: 0.1030 - val_accuracy: 0.6340\n",
            "Epoch 192/200\n",
            "92/92 [==============================] - 1s 7ms/step - loss: 0.0867 - accuracy: 0.6292 - val_loss: 0.1032 - val_accuracy: 0.6251\n",
            "Epoch 193/200\n",
            "92/92 [==============================] - 1s 6ms/step - loss: 0.0866 - accuracy: 0.6265 - val_loss: 0.1032 - val_accuracy: 0.6353\n",
            "Epoch 194/200\n",
            "92/92 [==============================] - 1s 7ms/step - loss: 0.0865 - accuracy: 0.6272 - val_loss: 0.1027 - val_accuracy: 0.6288\n",
            "Epoch 195/200\n",
            "92/92 [==============================] - 1s 6ms/step - loss: 0.0864 - accuracy: 0.6274 - val_loss: 0.1041 - val_accuracy: 0.6152\n",
            "Epoch 196/200\n",
            "92/92 [==============================] - 1s 7ms/step - loss: 0.0863 - accuracy: 0.6313 - val_loss: 0.1026 - val_accuracy: 0.6295\n",
            "Epoch 197/200\n",
            "92/92 [==============================] - 1s 6ms/step - loss: 0.0860 - accuracy: 0.6287 - val_loss: 0.1026 - val_accuracy: 0.6347\n",
            "Epoch 198/200\n",
            "92/92 [==============================] - 1s 7ms/step - loss: 0.0862 - accuracy: 0.6316 - val_loss: 0.1031 - val_accuracy: 0.6295\n",
            "Epoch 199/200\n",
            "92/92 [==============================] - 1s 8ms/step - loss: 0.0869 - accuracy: 0.6264 - val_loss: 0.1021 - val_accuracy: 0.6254\n",
            "Epoch 200/200\n",
            "92/92 [==============================] - 1s 6ms/step - loss: 0.0861 - accuracy: 0.6243 - val_loss: 0.1021 - val_accuracy: 0.6326\n"
          ]
        }
      ]
    },
    {
      "cell_type": "code",
      "source": [
        "#classification\n",
        "#if the reconstruction erro is high, classify as a sheet-break\n",
        "valid_x_predictions = autoencoder.predict(df_valid_x_rescaled)\n",
        "mse = np.mean(np.power(df_valid_x_rescaled - valid_x_predictions, 2), axis=1)\n",
        "error_df = pd.DataFrame({'Reconstruction_error':mse, 'True_class':df_valid['y']})\n",
        "\n",
        "precision_rt, recall_rt, threshold_rt = precision_recall_curve(error_df.True_class, error_df.Reconstruction_error)\n",
        "plt.plot(threshold_rt, precision_rt[1:], label=\"Precision\",linewidth=5)\n",
        "plt.plot(threshold_rt, recall_rt[1:], label=\"Recall\",linewidth=5)\n",
        "plt.title('Precision and recall for different threshold values')\n",
        "plt.xlabel('Threshold')\n",
        "plt.ylabel('Precision/Recall')\n",
        "plt.legend()\n",
        "plt.show()"
      ],
      "metadata": {
        "colab": {
          "base_uri": "https://localhost:8080/",
          "height": 404
        },
        "id": "qKqFPFdJnwRJ",
        "outputId": "1f3e1d04-a369-4d5c-c2e9-6c7174ca92ef"
      },
      "execution_count": 14,
      "outputs": [
        {
          "output_type": "display_data",
          "data": {
            "text/plain": [
              "<Figure size 576x432 with 1 Axes>"
            ],
            "image/png": "[encoded data removed]"
          },
          "metadata": {
            "needs_background": "light"
          }
        }
      ]
    },
    {
      "cell_type": "code",
      "source": [
        "test_x_predictions = autoencoder.predict(df_test_x_rescaled)\n",
        "mse = np.mean(np.power(df_test_x_rescaled - test_x_predictions, 2), axis=1)\n",
        "error_df_test = pd.DataFrame({'Reconstruction_error':mse, 'True_class':df_test['y']})\n",
        "error_df_test = error_df_test.reset_index()\n",
        "\n",
        "threshold_fixed = 0.4\n",
        "groups = error_df_test.groupby('True_class')\n",
        "\n",
        "fig, ax = plt.subplots()\n",
        "for name, group in groups:\n",
        "    ax.plot(group.index, group.Reconstruction_error, marker='o', ms=3.5, linestyle='',\n",
        "            label= \"Break\" if name == 1 else \"Normal\")\n",
        "ax.hlines(threshold_fixed, ax.get_xlim()[0], ax.get_xlim()[1], colors=\"r\", zorder=100, label='Threshold')\n",
        "ax.legend()\n",
        "plt.title(\"Reconstruction error for different classes\")\n",
        "plt.ylabel(\"Reconstruction error\")\n",
        "plt.xlabel(\"Data point index\")\n",
        "plt.show()"
      ],
      "metadata": {
        "colab": {
          "base_uri": "https://localhost:8080/",
          "height": 404
        },
        "id": "nxX2bptPpw4d",
        "outputId": "75e53df4-c4b9-4009-fc64-ea5b9b85d1aa"
      },
      "execution_count": 15,
      "outputs": [
        {
          "output_type": "display_data",
          "data": {
            "text/plain": [
              "<Figure size 576x432 with 1 Axes>"
            ],
            "image/png": "[encoded data removed]"
          },
          "metadata": {
            "needs_background": "light"
          }
        }
      ]
    },
    {
      "cell_type": "code",
      "source": [
        "#In Figure, the orange and blue dot above the threshold line represents the True Positive and False Positive, respectively."
      ],
      "metadata": {
        "id": "OeyX7p4Fr5cm"
      },
      "execution_count": 16,
      "outputs": []
    },
    {
      "cell_type": "code",
      "source": [
        "pred_y = [1 if e > threshold_fixed else 0 for e in error_df.Reconstruction_error.values]\n",
        "\n",
        "conf_matrix = confusion_matrix(error_df.True_class, pred_y)\n",
        "\n",
        "plt.figure(figsize=(12, 12))\n",
        "sns.heatmap(conf_matrix, xticklabels=LABELS, yticklabels=LABELS, annot=True, fmt=\"d\");\n",
        "plt.title(\"Confusion matrix\")\n",
        "plt.ylabel('True class')\n",
        "plt.xlabel('Predicted class')\n",
        "plt.show()"
      ],
      "metadata": {
        "colab": {
          "base_uri": "https://localhost:8080/",
          "height": 730
        },
        "id": "vkO9E5cksPfU",
        "outputId": "dba7753e-dae8-43e5-d129-1d3b61576984"
      },
      "execution_count": 19,
      "outputs": [
        {
          "output_type": "display_data",
          "data": {
            "text/plain": [
              "<Figure size 864x864 with 2 Axes>"
            ],
            "image/png": "[encoded data removed]"
          },
          "metadata": {
            "needs_background": "light"
          }
        }
      ]
    },
    {
      "cell_type": "code",
      "source": [
        "#ROC curve and AUC\n",
        "false_pos_rate, true_pos_rate, thresholds = roc_curve(error_df.True_class, error_df.Reconstruction_error)\n",
        "roc_auc = auc(false_pos_rate, true_pos_rate,)\n",
        "plt.plot(false_pos_rate, true_pos_rate, linewidth=5, label='AUC = %0.3f'% roc_auc)\n",
        "plt.plot([0,1],[0,1], linewidth=5)\n",
        "plt.xlim([-0.01, 1])\n",
        "plt.ylim([0, 1.01])\n",
        "plt.legend(loc='lower right')\n",
        "plt.title('Receiver operating characteristic curve (ROC)')\n",
        "plt.ylabel('True Positive Rate')\n",
        "plt.xlabel('False Positive Rate')\n",
        "plt.show()"
      ],
      "metadata": {
        "colab": {
          "base_uri": "https://localhost:8080/",
          "height": 404
        },
        "id": "GZ1moMhGsnDE",
        "outputId": "cbc3df79-d8d9-4084-dd53-3cfb67e2c8a8"
      },
      "execution_count": 20,
      "outputs": [
        {
          "output_type": "display_data",
          "data": {
            "text/plain": [
              "<Figure size 576x432 with 1 Axes>"
            ],
            "image/png": "[encoded data removed]"
          },
          "metadata": {
            "needs_background": "light"
          }
        }
      ]
    },
    {
      "cell_type": "code",
      "source": [
        ""
      ],
      "metadata": {
        "id": "UTmzsPGStODQ"
      },
      "execution_count": null,
      "outputs": []
    }
  ]
}